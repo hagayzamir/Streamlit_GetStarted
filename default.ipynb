{
 "cells": [
  {
   "cell_type": "markdown",
   "id": "4ce19b99",
   "metadata": {},
   "source": [
    "# <span style='color:#065087'>Default start page</span>"
   ]
  },
  {
   "cell_type": "code",
   "execution_count": null,
   "id": "9c8cdd4d",
   "metadata": {},
   "outputs": [],
   "source": []
  }
 ],
 "metadata": {
  "kernelspec": {
   "display_name": "Python 3 (ipykernel)",
   "language": "python",
   "name": "python3"
  },
  "language_info": {
   "codemirror_mode": {
    "name": "ipython",
    "version": 3
   },
   "file_extension": ".py",
   "mimetype": "text/x-python",
   "name": "python",
   "nbconvert_exporter": "python",
   "pygments_lexer": "ipython3",
   "version": "3.9.13"
  }
 },
 "nbformat": 4,
 "nbformat_minor": 5
}
