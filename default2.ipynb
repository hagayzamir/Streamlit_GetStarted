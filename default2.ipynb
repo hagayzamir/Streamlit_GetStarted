{
 "cells": [
  {
   "cell_type": "code",
   "execution_count": 14,
   "id": "9e9c620e",
   "metadata": {},
   "outputs": [],
   "source": [
    "import streamlit as st\n",
    "import pandas as pd\n",
    "pd.set_option('display.max_colwidth', None)\n",
    "import numpy as np"
   ]
  },
  {
   "cell_type": "code",
   "execution_count": 22,
   "id": "59082215",
   "metadata": {},
   "outputs": [],
   "source": [
    "experiences_df = pd.DataFrame({\n",
    "  'subject': ['Birth', 'Childhood', 'Love', 'Loss', 'Joy', 'Pain', \\\n",
    "              'Fear', 'Learning', 'Change', 'Death'],\n",
    "  'description': ['All human beings have experienced being born and entering the world.', \\\n",
    "                  'Everyone has experienced a period of childhood, characterized by growth, learning, and exploration.', \\\n",
    "                  'Most people have experienced the feeling of love or being loved by others, whether it be romantic or platonic.', \\\n",
    "                  'All people experience loss, such as the loss of a loved one or a significant change in life circumstances.', \\\n",
    "                 'Everyone has experienced moments of joy and happiness, such as achieving a personal goal or celebrating a special occasion.', \\\n",
    "                 'Most people have experienced physical or emotional pain at some point in their lives.', \\\n",
    "                 'Everyone has experienced fear in some form, whether it be a specific phobia or a general sense of anxiety.', \\\n",
    "                 'All human beings have the ability to learn and grow, whether it be through formal education or life experiences.', \\\n",
    "                 'Everyone experiences change throughout their lives, whether it be changes in their physical bodies, relationships, or surroundings.', \\\n",
    "                 'All people will experience the inevitability of death, either personally or through the loss of others.' \\\n",
    "                 ],\n",
    "    'Selected': [False, False, False, False, False, False, False, False, False, False]\n",
    "})\n",
    "#styled_df = experiences_df.style.set_properties(**{'text-align': 'left'}, subset=['description'])\n",
    "#display(styled_df)"
   ]
  },
  {
   "cell_type": "code",
   "execution_count": 28,
   "id": "76265fca",
   "metadata": {},
   "outputs": [
    {
     "data": {
      "text/plain": [
       "DeltaGenerator(_root_container=0, _provided_cursor=None, _parent=None, _block_type=None, _form_data=None)"
      ]
     },
     "execution_count": 28,
     "metadata": {},
     "output_type": "execute_result"
    }
   ],
   "source": [
    "st.header('Shared experiences')\n",
    "st.subheader('Select 4 of the 10 options below that you mostley identify with:')"
   ]
  },
  {
   "cell_type": "code",
   "execution_count": 29,
   "id": "680aa07f",
   "metadata": {},
   "outputs": [],
   "source": [
    "for index, row in experiences_df.iterrows():\n",
    "    the_label = row['subject'] + \": \" + row['description']\n",
    "    selected = st.checkbox(label=the_label)\n",
    "    experiences_df.loc[index, 'Selected'] = selected\n",
    "    the_label = \"\";\n",
    "\n",
    "# Display the updated DataFrame\n",
    "#st.write(experiences_df)"
   ]
  },
  {
   "cell_type": "code",
   "execution_count": null,
   "id": "4ea4184f",
   "metadata": {},
   "outputs": [],
   "source": []
  },
  {
   "cell_type": "code",
   "execution_count": null,
   "id": "38164cd0",
   "metadata": {},
   "outputs": [],
   "source": []
  }
 ],
 "metadata": {
  "kernelspec": {
   "display_name": "Python 3 (ipykernel)",
   "language": "python",
   "name": "python3"
  },
  "language_info": {
   "codemirror_mode": {
    "name": "ipython",
    "version": 3
   },
   "file_extension": ".py",
   "mimetype": "text/x-python",
   "name": "python",
   "nbconvert_exporter": "python",
   "pygments_lexer": "ipython3",
   "version": "3.9.13"
  }
 },
 "nbformat": 4,
 "nbformat_minor": 5
}
